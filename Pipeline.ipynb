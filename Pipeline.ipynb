{
 "cells": [
  {
   "cell_type": "code",
   "execution_count": 2,
   "id": "a057f534",
   "metadata": {},
   "outputs": [],
   "source": [
    "import boto3"
   ]
  },
  {
   "cell_type": "code",
   "execution_count": 3,
   "id": "9fb7b63f",
   "metadata": {},
   "outputs": [],
   "source": [
    "import pandas as pd\n",
    "import psycopg2\n",
    "import json"
   ]
  },
  {
   "cell_type": "code",
   "execution_count": 4,
   "id": "2eab09d9",
   "metadata": {},
   "outputs": [],
   "source": [
    "import configparser\n",
    "config=configparser.ConfigParser()\n",
    "config.read_file(open('cluster.config'))"
   ]
  },
  {
   "cell_type": "code",
   "execution_count": 5,
   "id": "141cc727",
   "metadata": {},
   "outputs": [],
   "source": [
    "KEY = config.get(\"AWS\",\"KEY\")\n",
    "SECRET = config.get(\"AWS\",\"SECRET\")"
   ]
  },
  {
   "cell_type": "code",
   "execution_count": 6,
   "id": "b9803919",
   "metadata": {},
   "outputs": [
    {
     "data": {
      "text/plain": [
       "('awsuser', 'Password1', 'myfirstdb')"
      ]
     },
     "execution_count": 6,
     "metadata": {},
     "output_type": "execute_result"
    }
   ],
   "source": [
    "DWH_CLUSTER_TYPE=config.get(\"DWH\",\"DWH_CLUSTER_TYPE\")\n",
    "DWH_NUM_NODES=config.get(\"DWH\",\"DWH_NUM_NODES\")\n",
    "DWH_NODE_TYPE=config.get(\"DWH\",\"DWH_NODE_TYPE\")\n",
    "DWH_CLUSTER_IDENTIFIER=config.get(\"DWH\",\"DWH_CLUSTER_IDENTIFIER\")\n",
    "DWH_DB=config.get(\"DWH\",\"DWH_DB\")\n",
    "DWH_DB_USER=config.get(\"DWH\",\"DWH_DB_USER\")\n",
    "DWH_DB_PASSWORD=config.get(\"DWH\",\"DWH_DB_PASSWORD\")\n",
    "DWH_PORT=config.get(\"DWH\",\"DWH_PORT\")\n",
    "DWH_IAM_ROLE_NAME=config.get(\"DWH\",\"DWH_IAM_ROLE_NAME\")\n",
    "\n",
    "(DWH_DB_USER,DWH_DB_PASSWORD,DWH_DB)"
   ]
  },
  {
   "cell_type": "code",
   "execution_count": 7,
   "id": "c8e1542a",
   "metadata": {},
   "outputs": [
    {
     "data": {
      "text/html": [
       "<div>\n",
       "<style scoped>\n",
       "    .dataframe tbody tr th:only-of-type {\n",
       "        vertical-align: middle;\n",
       "    }\n",
       "\n",
       "    .dataframe tbody tr th {\n",
       "        vertical-align: top;\n",
       "    }\n",
       "\n",
       "    .dataframe thead th {\n",
       "        text-align: right;\n",
       "    }\n",
       "</style>\n",
       "<table border=\"1\" class=\"dataframe\">\n",
       "  <thead>\n",
       "    <tr style=\"text-align: right;\">\n",
       "      <th></th>\n",
       "      <th>Param</th>\n",
       "      <th>Value</th>\n",
       "    </tr>\n",
       "  </thead>\n",
       "  <tbody>\n",
       "    <tr>\n",
       "      <th>0</th>\n",
       "      <td>DWH_CLUSTER_TYPE</td>\n",
       "      <td>single-node</td>\n",
       "    </tr>\n",
       "    <tr>\n",
       "      <th>1</th>\n",
       "      <td>DWH_NUM_NODES</td>\n",
       "      <td>1</td>\n",
       "    </tr>\n",
       "    <tr>\n",
       "      <th>2</th>\n",
       "      <td>DWH_NODE_TYPE</td>\n",
       "      <td>dc2.large</td>\n",
       "    </tr>\n",
       "    <tr>\n",
       "      <th>3</th>\n",
       "      <td>DWH_CLUSTER_IDENTIFIER</td>\n",
       "      <td>my-first-redshift</td>\n",
       "    </tr>\n",
       "    <tr>\n",
       "      <th>4</th>\n",
       "      <td>DWH_DB</td>\n",
       "      <td>myfirstdb</td>\n",
       "    </tr>\n",
       "    <tr>\n",
       "      <th>5</th>\n",
       "      <td>DWH_DB_USER</td>\n",
       "      <td>awsuser</td>\n",
       "    </tr>\n",
       "    <tr>\n",
       "      <th>6</th>\n",
       "      <td>DWH_DB_PASSWORD</td>\n",
       "      <td>Password1</td>\n",
       "    </tr>\n",
       "    <tr>\n",
       "      <th>7</th>\n",
       "      <td>DWH_PORT</td>\n",
       "      <td>5439</td>\n",
       "    </tr>\n",
       "    <tr>\n",
       "      <th>8</th>\n",
       "      <td>DWH_IAM_ROLE_NAME</td>\n",
       "      <td>redshift-s3-access</td>\n",
       "    </tr>\n",
       "  </tbody>\n",
       "</table>\n",
       "</div>"
      ],
      "text/plain": [
       "                    Param               Value\n",
       "0        DWH_CLUSTER_TYPE         single-node\n",
       "1           DWH_NUM_NODES                   1\n",
       "2           DWH_NODE_TYPE           dc2.large\n",
       "3  DWH_CLUSTER_IDENTIFIER   my-first-redshift\n",
       "4                  DWH_DB           myfirstdb\n",
       "5             DWH_DB_USER             awsuser\n",
       "6         DWH_DB_PASSWORD           Password1\n",
       "7                DWH_PORT                5439\n",
       "8       DWH_IAM_ROLE_NAME  redshift-s3-access"
      ]
     },
     "execution_count": 7,
     "metadata": {},
     "output_type": "execute_result"
    }
   ],
   "source": [
    "pd.DataFrame({\"Param\":[\"DWH_CLUSTER_TYPE\",\"DWH_NUM_NODES\",\"DWH_NODE_TYPE\",\"DWH_CLUSTER_IDENTIFIER\",\"DWH_DB\",\"DWH_DB_USER\",\n",
    "\"DWH_DB_PASSWORD\",\"DWH_PORT\",\"DWH_IAM_ROLE_NAME\"],\"Value\":[DWH_CLUSTER_TYPE,DWH_NUM_NODES,DWH_NODE_TYPE,DWH_CLUSTER_IDENTIFIER,DWH_DB,\n",
    "DWH_DB_USER,DWH_DB_PASSWORD,DWH_PORT,DWH_IAM_ROLE_NAME]})"
   ]
  },
  {
   "cell_type": "code",
   "execution_count": 8,
   "id": "7420e87f",
   "metadata": {},
   "outputs": [],
   "source": [
    "ec2=boto3.resource('ec2',region_name=\"ap-south-1\",aws_access_key_id=KEY,aws_secret_access_key=SECRET)"
   ]
  },
  {
   "cell_type": "code",
   "execution_count": 9,
   "id": "a48e890c",
   "metadata": {},
   "outputs": [],
   "source": [
    "s3 = boto3.resource('s3',region_name=\"ap-south-1\",aws_access_key_id=KEY,aws_secret_access_key=SECRET)\n",
    "iam = boto3.client('iam',region_name=\"ap-south-1\",aws_access_key_id=KEY,aws_secret_access_key=SECRET)\n",
    "redshift = boto3.client('redshift',region_name=\"ap-south-1\",aws_access_key_id=KEY,aws_secret_access_key=SECRET)"
   ]
  },
  {
   "cell_type": "code",
   "execution_count": 10,
   "id": "7a4ded3c",
   "metadata": {},
   "outputs": [
    {
     "data": {
      "text/plain": [
       "[]"
      ]
     },
     "execution_count": 10,
     "metadata": {},
     "output_type": "execute_result"
    }
   ],
   "source": [
    "bucket = s3.Bucket(\"ann-test-bucket1\")\n",
    "log_data_files= [filename.key for filename in bucket.objects.filter(Prefix='')]\n",
    "log_data_files"
   ]
  },
  {
   "cell_type": "code",
   "execution_count": 11,
   "id": "e31074b5",
   "metadata": {},
   "outputs": [],
   "source": [
    "roleArn = iam.get_role(RoleName=DWH_IAM_ROLE_NAME)['Role']['Arn']"
   ]
  },
  {
   "cell_type": "code",
   "execution_count": 12,
   "id": "2c7da685",
   "metadata": {},
   "outputs": [
    {
     "data": {
      "text/plain": [
       "'arn:aws:iam::313680870945:role/redshift-s3-access'"
      ]
     },
     "execution_count": 12,
     "metadata": {},
     "output_type": "execute_result"
    }
   ],
   "source": [
    "roleArn"
   ]
  },
  {
   "cell_type": "code",
   "execution_count": 18,
   "id": "add20ea6",
   "metadata": {},
   "outputs": [],
   "source": [
    "try :\n",
    "    response = redshift.create_cluster(\n",
    "    ClusterType=DWH_CLUSTER_TYPE,\n",
    "    NodeType = DWH_NODE_TYPE,\n",
    "        \n",
    "    #Identifires & Credentials\n",
    "    DBName = DWH_DB,\n",
    "    ClusterIdentifier= DWH_CLUSTER_IDENTIFIER,\n",
    "    MasterUsername = DWH_DB_USER,\n",
    "    MasterUserPassword= DWH_DB_PASSWORD,\n",
    "        \n",
    "    #Roles ( for s3 access)\n",
    "    IamRoles = [roleArn]\n",
    "        \n",
    "    )\n",
    "except Exception as e :\n",
    "    print(e)"
   ]
  },
  {
   "cell_type": "code",
   "execution_count": 21,
   "id": "6bc7c410",
   "metadata": {},
   "outputs": [
    {
     "data": {
      "text/plain": [
       "{'Clusters': [{'ClusterIdentifier': 'my-first-redshift',\n",
       "   'NodeType': 'dc2.large',\n",
       "   'ClusterStatus': 'available',\n",
       "   'ClusterAvailabilityStatus': 'Available',\n",
       "   'MasterUsername': 'awsuser',\n",
       "   'DBName': 'myfirstdb',\n",
       "   'Endpoint': {'Address': 'my-first-redshift.ckhqduutsfs1.ap-south-1.redshift.amazonaws.com',\n",
       "    'Port': 5439},\n",
       "   'ClusterCreateTime': datetime.datetime(2022, 10, 20, 14, 26, 12, 750000, tzinfo=tzutc()),\n",
       "   'AutomatedSnapshotRetentionPeriod': 1,\n",
       "   'ManualSnapshotRetentionPeriod': -1,\n",
       "   'ClusterSecurityGroups': [],\n",
       "   'VpcSecurityGroups': [{'VpcSecurityGroupId': 'sg-0748fd3d5097d77bf',\n",
       "     'Status': 'active'}],\n",
       "   'ClusterParameterGroups': [{'ParameterGroupName': 'default.redshift-1.0',\n",
       "     'ParameterApplyStatus': 'in-sync'}],\n",
       "   'ClusterSubnetGroupName': 'default',\n",
       "   'VpcId': 'vpc-04950c02689d0199e',\n",
       "   'AvailabilityZone': 'ap-south-1a',\n",
       "   'PreferredMaintenanceWindow': 'tue:06:00-tue:06:30',\n",
       "   'PendingModifiedValues': {},\n",
       "   'ClusterVersion': '1.0',\n",
       "   'AllowVersionUpgrade': True,\n",
       "   'NumberOfNodes': 1,\n",
       "   'PubliclyAccessible': True,\n",
       "   'Encrypted': False,\n",
       "   'ClusterPublicKey': 'ssh-rsa AAAAB3NzaC1yc2EAAAADAQABAAABAQDaCG27cigH1TB+Yq3672Ckmu2kdclC4P84WpgSt4SsVLpSyI638DiAVn/evLW/lPl53MMuZGwCPhOk9sFKv3Qdk0NPx72yP6FC75A0EeIae4Q74MX69eI2iEM0lS5+kqb7MXzXftTWfWUHWrcLVdacA8RY1pdOMcWCWKtb8jeIF3puS7b6a/PAcgW8yyN7QNvSpGWSuhES3PRSo/SJWGEdLHmb0rTIbfn1jN7+p5CHru5vqCON7M4iRfF3iWEF6Se03n8fz12Oq8Vf+ZCq0LqMBMEo6EE3vkREyHVR0JHJf1uUwXsOSMJvh6Zn1PsM34pmx9XbU0JuLb+wJN0VO00v Amazon-Redshift\\n',\n",
       "   'ClusterNodes': [{'NodeRole': 'SHARED',\n",
       "     'PrivateIPAddress': '172.31.46.21',\n",
       "     'PublicIPAddress': '13.127.253.240'}],\n",
       "   'ClusterRevisionNumber': '41881',\n",
       "   'Tags': [],\n",
       "   'EnhancedVpcRouting': False,\n",
       "   'IamRoles': [{'IamRoleArn': 'arn:aws:iam::313680870945:role/redshift-s3-access',\n",
       "     'ApplyStatus': 'in-sync'}],\n",
       "   'MaintenanceTrackName': 'current',\n",
       "   'DeferredMaintenanceWindows': [],\n",
       "   'NextMaintenanceWindowStartTime': datetime.datetime(2022, 10, 25, 6, 0, tzinfo=tzutc()),\n",
       "   'AvailabilityZoneRelocationStatus': 'disabled',\n",
       "   'ClusterNamespaceArn': 'arn:aws:redshift:ap-south-1:313680870945:namespace:a15799d4-583f-4f51-86fe-d0aeba73019a',\n",
       "   'AquaConfiguration': {'AquaStatus': 'disabled',\n",
       "    'AquaConfigurationStatus': 'auto'}}],\n",
       " 'ResponseMetadata': {'RequestId': '8da000d4-2294-49e3-8c56-d9549eb51f9f',\n",
       "  'HTTPStatusCode': 200,\n",
       "  'HTTPHeaders': {'x-amzn-requestid': '8da000d4-2294-49e3-8c56-d9549eb51f9f',\n",
       "   'content-type': 'text/xml',\n",
       "   'content-length': '3930',\n",
       "   'vary': 'accept-encoding',\n",
       "   'date': 'Thu, 20 Oct 2022 14:26:47 GMT'},\n",
       "  'RetryAttempts': 0}}"
      ]
     },
     "execution_count": 21,
     "metadata": {},
     "output_type": "execute_result"
    }
   ],
   "source": [
    "redshift.describe_clusters(ClusterIdentifier=DWH_CLUSTER_IDENTIFIER)['Clusters'][0]"
   ]
  },
  {
   "cell_type": "code",
   "execution_count": 25,
   "id": "0a343bc2",
   "metadata": {},
   "outputs": [
    {
     "name": "stderr",
     "output_type": "stream",
     "text": [
      "C:\\Users\\ANERGH~1\\AppData\\Local\\Temp/ipykernel_4620/3929763020.py:2: FutureWarning: Passing a negative integer is deprecated in version 1.0 and will not be supported in future version. Instead, use None to not limit the column width.\n",
      "  pd.set_option('display.max_colwidth',-1)\n"
     ]
    },
    {
     "data": {
      "text/html": [
       "<div>\n",
       "<style scoped>\n",
       "    .dataframe tbody tr th:only-of-type {\n",
       "        vertical-align: middle;\n",
       "    }\n",
       "\n",
       "    .dataframe tbody tr th {\n",
       "        vertical-align: top;\n",
       "    }\n",
       "\n",
       "    .dataframe thead th {\n",
       "        text-align: right;\n",
       "    }\n",
       "</style>\n",
       "<table border=\"1\" class=\"dataframe\">\n",
       "  <thead>\n",
       "    <tr style=\"text-align: right;\">\n",
       "      <th></th>\n",
       "      <th>Key</th>\n",
       "      <th>Value</th>\n",
       "    </tr>\n",
       "  </thead>\n",
       "  <tbody>\n",
       "    <tr>\n",
       "      <th>0</th>\n",
       "      <td>ClusterIdentifier</td>\n",
       "      <td>my-first-redshift</td>\n",
       "    </tr>\n",
       "    <tr>\n",
       "      <th>1</th>\n",
       "      <td>NodeType</td>\n",
       "      <td>dc2.large</td>\n",
       "    </tr>\n",
       "    <tr>\n",
       "      <th>2</th>\n",
       "      <td>ClusterStatus</td>\n",
       "      <td>available</td>\n",
       "    </tr>\n",
       "    <tr>\n",
       "      <th>3</th>\n",
       "      <td>MasterUsername</td>\n",
       "      <td>awsuser</td>\n",
       "    </tr>\n",
       "    <tr>\n",
       "      <th>4</th>\n",
       "      <td>DBName</td>\n",
       "      <td>myfirstdb</td>\n",
       "    </tr>\n",
       "    <tr>\n",
       "      <th>5</th>\n",
       "      <td>Endpoint</td>\n",
       "      <td>{'Address': 'my-first-redshift.ckhqduutsfs1.ap-south-1.redshift.amazonaws.com', 'Port': 5439}</td>\n",
       "    </tr>\n",
       "    <tr>\n",
       "      <th>6</th>\n",
       "      <td>VpcId</td>\n",
       "      <td>vpc-04950c02689d0199e</td>\n",
       "    </tr>\n",
       "  </tbody>\n",
       "</table>\n",
       "</div>"
      ],
      "text/plain": [
       "                 Key  \\\n",
       "0  ClusterIdentifier   \n",
       "1  NodeType            \n",
       "2  ClusterStatus       \n",
       "3  MasterUsername      \n",
       "4  DBName              \n",
       "5  Endpoint            \n",
       "6  VpcId               \n",
       "\n",
       "                                                                                           Value  \n",
       "0  my-first-redshift                                                                              \n",
       "1  dc2.large                                                                                      \n",
       "2  available                                                                                      \n",
       "3  awsuser                                                                                        \n",
       "4  myfirstdb                                                                                      \n",
       "5  {'Address': 'my-first-redshift.ckhqduutsfs1.ap-south-1.redshift.amazonaws.com', 'Port': 5439}  \n",
       "6  vpc-04950c02689d0199e                                                                          "
      ]
     },
     "execution_count": 25,
     "metadata": {},
     "output_type": "execute_result"
    }
   ],
   "source": [
    "def PrettyRedshiftProps(props):\n",
    "    pd.set_option('display.max_colwidth',-1)\n",
    "    keysToShow=[\"ClusterIdentifier\",\"NodeType\",\"ClusterStatus\",\"MasterUsername\",\"DBName\",\"Endpoint\",\"VpcId\"]\n",
    "    x=[(k,v) for k,v in props.items() if k in keysToShow]\n",
    "    return pd.DataFrame(data=x,columns=[\"Key\",\"Value\"])\n",
    "\n",
    "myClusterProps = redshift.describe_clusters(ClusterIdentifier=DWH_CLUSTER_IDENTIFIER)['Clusters'][0]\n",
    "PrettyRedshiftProps(myClusterProps)"
   ]
  },
  {
   "cell_type": "code",
   "execution_count": 27,
   "id": "884946c1",
   "metadata": {},
   "outputs": [],
   "source": [
    "DWH_ENDPOINT= myClusterProps['Endpoint']['Address']\n",
    "DWH_ROLE_ARN = myClusterProps['IamRoles'][0]['IamRoleArn']\n",
    "DB_NAME = myClusterProps['DBName']\n",
    "DB_USER = myClusterProps['MasterUsername']"
   ]
  },
  {
   "cell_type": "code",
   "execution_count": 28,
   "id": "2fc5540b",
   "metadata": {},
   "outputs": [
    {
     "data": {
      "text/plain": [
       "'awsuser'"
      ]
     },
     "execution_count": 28,
     "metadata": {},
     "output_type": "execute_result"
    }
   ],
   "source": [
    "DB_USER"
   ]
  },
  {
   "cell_type": "code",
   "execution_count": null,
   "id": "d47923bd",
   "metadata": {},
   "outputs": [],
   "source": []
  }
 ],
 "metadata": {
  "kernelspec": {
   "display_name": "Python 3 (ipykernel)",
   "language": "python",
   "name": "python3"
  },
  "language_info": {
   "codemirror_mode": {
    "name": "ipython",
    "version": 3
   },
   "file_extension": ".py",
   "mimetype": "text/x-python",
   "name": "python",
   "nbconvert_exporter": "python",
   "pygments_lexer": "ipython3",
   "version": "3.9.7"
  }
 },
 "nbformat": 4,
 "nbformat_minor": 5
}
